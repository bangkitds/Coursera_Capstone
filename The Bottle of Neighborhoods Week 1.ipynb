{
 "cells": [
  {
   "cell_type": "markdown",
   "metadata": {},
   "source": [
    "# The Battle of the Neighborhoods -- Coursera Capstone Project"
   ]
  },
  {
   "cell_type": "markdown",
   "metadata": {},
   "source": [
    "Identify the Business Problem:\n",
    "\n",
    "Toronto is the Capital City of the Canadian Province of Ontario. It is the most populous city in Canada with the recorded population more than 6 millions in 2016. With this enormous population number, this city is a good place for entrepreuners to open new business which can attract great number of customers, especially restaurant.\n",
    "\n",
    "The goal of this project is to use the Foursquare API to provide the location data and clustering of venues information to find out what would be the best neighborhoods in the Toronto to open a new restaurant."
   ]
  },
  {
   "cell_type": "markdown",
   "metadata": {},
   "source": [
    "Data:\n",
    "\n",
    "In order to compelete this project, the following data will be used:\n",
    "1. List of neighborhoods of Toronto City.\n",
    "This will be using Wikipedia page with the neighborhoods and postal codes of Toronto city (https://en.wikipedia.org/wiki/List_of_postal_codes_of_Canada:_M)\n",
    "\n",
    "2. The geographical Location of Toronto's neighborhoods \n",
    "the geographical coordinates of each postal code through reading the CSV file (https://cocl.us/Geospatial_data)\n",
    "\n",
    "3. The venue data for new restaurant through Foursquare API\n"
   ]
  }
 ],
 "metadata": {
  "kernelspec": {
   "display_name": "Python 3",
   "language": "python",
   "name": "python3"
  },
  "language_info": {
   "codemirror_mode": {
    "name": "ipython",
    "version": 3
   },
   "file_extension": ".py",
   "mimetype": "text/x-python",
   "name": "python",
   "nbconvert_exporter": "python",
   "pygments_lexer": "ipython3",
   "version": "3.7.4"
  }
 },
 "nbformat": 4,
 "nbformat_minor": 2
}
